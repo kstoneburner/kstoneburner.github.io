{
 "cells": [
  {
   "cell_type": "code",
   "execution_count": 9,
   "id": "4fefeb17",
   "metadata": {},
   "outputs": [],
   "source": [
    "input_template_filename = \"covid_dash_v1.template.html\"\n",
    "output_html_filename = input_template_filename.replace(\".template\",\"\")\n",
    "\n",
    "replace_vals = {\n",
    "    \"$$covid_dashboard_1$$\" : \"dash_1.raw\"\n",
    "}\n",
    "\n",
    "#//*** Load the Template\n",
    "with open(input_template_filename , \"r\") as f:\n",
    "    template_text = f.read()\n",
    "\n",
    "#//*** Replace Each Value in Replace_vals\n",
    "for find_val, replace_filename in replace_vals.items():\n",
    "    with open(replace_filename , \"r\") as f:\n",
    "        \n",
    "        #//*** Replace the find val (placeholder) with the HTML file\n",
    "        template_text = template_text.replace(find_val,f.read())\n",
    "        \n",
    "\n",
    "#//*** Write the updated text to file\n",
    "with open(output_html_filename , \"w\") as f:\n",
    "    f.write(template_text)\n"
   ]
  }
 ],
 "metadata": {
  "kernelspec": {
   "display_name": "Python 3",
   "language": "python",
   "name": "python3"
  },
  "language_info": {
   "codemirror_mode": {
    "name": "ipython",
    "version": 3
   },
   "file_extension": ".py",
   "mimetype": "text/x-python",
   "name": "python",
   "nbconvert_exporter": "python",
   "pygments_lexer": "ipython3",
   "version": "3.8.10"
  }
 },
 "nbformat": 4,
 "nbformat_minor": 5
}
